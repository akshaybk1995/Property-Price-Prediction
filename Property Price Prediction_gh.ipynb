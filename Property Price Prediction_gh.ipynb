{
 "cells": [
  {
   "cell_type": "code",
   "execution_count": 1,
   "id": "366961ed",
   "metadata": {},
   "outputs": [],
   "source": [
    "import pandas as pd \n",
    "import numpy as np"
   ]
  },
  {
   "cell_type": "code",
   "execution_count": 2,
   "id": "90089ea7",
   "metadata": {},
   "outputs": [],
   "source": [
    "df = pd.read_csv(r'D:\\IMARTICUS\\Property_Price_Train.csv')"
   ]
  },
  {
   "cell_type": "code",
   "execution_count": 41,
   "id": "b862181f",
   "metadata": {},
   "outputs": [
    {
     "data": {
      "text/html": [
       "<div>\n",
       "<style scoped>\n",
       "    .dataframe tbody tr th:only-of-type {\n",
       "        vertical-align: middle;\n",
       "    }\n",
       "\n",
       "    .dataframe tbody tr th {\n",
       "        vertical-align: top;\n",
       "    }\n",
       "\n",
       "    .dataframe thead th {\n",
       "        text-align: right;\n",
       "    }\n",
       "</style>\n",
       "<table border=\"1\" class=\"dataframe\">\n",
       "  <thead>\n",
       "    <tr style=\"text-align: right;\">\n",
       "      <th></th>\n",
       "      <th>Building_Class</th>\n",
       "      <th>Zoning_Class</th>\n",
       "      <th>Lot_Extent</th>\n",
       "      <th>Lot_Size</th>\n",
       "      <th>Road_Type</th>\n",
       "      <th>Property_Shape</th>\n",
       "      <th>Land_Outline</th>\n",
       "      <th>Utility_Type</th>\n",
       "      <th>Lot_Configuration</th>\n",
       "      <th>Property_Slope</th>\n",
       "      <th>...</th>\n",
       "      <th>Enclosed_Lobby_Area</th>\n",
       "      <th>Three_Season_Lobby_Area</th>\n",
       "      <th>Screen_Lobby_Area</th>\n",
       "      <th>Pool_Area</th>\n",
       "      <th>Miscellaneous_Value</th>\n",
       "      <th>Month_Sold</th>\n",
       "      <th>Year_Sold</th>\n",
       "      <th>Sale_Type</th>\n",
       "      <th>Sale_Condition</th>\n",
       "      <th>Sale_Price</th>\n",
       "    </tr>\n",
       "  </thead>\n",
       "  <tbody>\n",
       "    <tr>\n",
       "      <th>0</th>\n",
       "      <td>60</td>\n",
       "      <td>3</td>\n",
       "      <td>65.0</td>\n",
       "      <td>8450</td>\n",
       "      <td>1</td>\n",
       "      <td>3</td>\n",
       "      <td>3</td>\n",
       "      <td>0</td>\n",
       "      <td>4</td>\n",
       "      <td>0</td>\n",
       "      <td>...</td>\n",
       "      <td>20.337934</td>\n",
       "      <td>0</td>\n",
       "      <td>0</td>\n",
       "      <td>0</td>\n",
       "      <td>0</td>\n",
       "      <td>2</td>\n",
       "      <td>2008</td>\n",
       "      <td>8</td>\n",
       "      <td>4</td>\n",
       "      <td>208500</td>\n",
       "    </tr>\n",
       "    <tr>\n",
       "      <th>1</th>\n",
       "      <td>20</td>\n",
       "      <td>3</td>\n",
       "      <td>80.0</td>\n",
       "      <td>9600</td>\n",
       "      <td>1</td>\n",
       "      <td>3</td>\n",
       "      <td>3</td>\n",
       "      <td>0</td>\n",
       "      <td>2</td>\n",
       "      <td>0</td>\n",
       "      <td>...</td>\n",
       "      <td>15.039392</td>\n",
       "      <td>0</td>\n",
       "      <td>0</td>\n",
       "      <td>0</td>\n",
       "      <td>0</td>\n",
       "      <td>5</td>\n",
       "      <td>2007</td>\n",
       "      <td>8</td>\n",
       "      <td>4</td>\n",
       "      <td>181500</td>\n",
       "    </tr>\n",
       "    <tr>\n",
       "      <th>2</th>\n",
       "      <td>60</td>\n",
       "      <td>3</td>\n",
       "      <td>68.0</td>\n",
       "      <td>11250</td>\n",
       "      <td>1</td>\n",
       "      <td>0</td>\n",
       "      <td>3</td>\n",
       "      <td>0</td>\n",
       "      <td>4</td>\n",
       "      <td>0</td>\n",
       "      <td>...</td>\n",
       "      <td>-46.232198</td>\n",
       "      <td>0</td>\n",
       "      <td>0</td>\n",
       "      <td>0</td>\n",
       "      <td>0</td>\n",
       "      <td>9</td>\n",
       "      <td>2008</td>\n",
       "      <td>8</td>\n",
       "      <td>4</td>\n",
       "      <td>223500</td>\n",
       "    </tr>\n",
       "    <tr>\n",
       "      <th>3</th>\n",
       "      <td>70</td>\n",
       "      <td>3</td>\n",
       "      <td>60.0</td>\n",
       "      <td>9550</td>\n",
       "      <td>1</td>\n",
       "      <td>0</td>\n",
       "      <td>3</td>\n",
       "      <td>0</td>\n",
       "      <td>0</td>\n",
       "      <td>0</td>\n",
       "      <td>...</td>\n",
       "      <td>60.921821</td>\n",
       "      <td>0</td>\n",
       "      <td>0</td>\n",
       "      <td>0</td>\n",
       "      <td>0</td>\n",
       "      <td>2</td>\n",
       "      <td>2006</td>\n",
       "      <td>8</td>\n",
       "      <td>0</td>\n",
       "      <td>140000</td>\n",
       "    </tr>\n",
       "    <tr>\n",
       "      <th>4</th>\n",
       "      <td>60</td>\n",
       "      <td>3</td>\n",
       "      <td>84.0</td>\n",
       "      <td>14260</td>\n",
       "      <td>1</td>\n",
       "      <td>0</td>\n",
       "      <td>3</td>\n",
       "      <td>0</td>\n",
       "      <td>2</td>\n",
       "      <td>0</td>\n",
       "      <td>...</td>\n",
       "      <td>21.788818</td>\n",
       "      <td>0</td>\n",
       "      <td>0</td>\n",
       "      <td>0</td>\n",
       "      <td>0</td>\n",
       "      <td>12</td>\n",
       "      <td>2008</td>\n",
       "      <td>8</td>\n",
       "      <td>4</td>\n",
       "      <td>250000</td>\n",
       "    </tr>\n",
       "  </tbody>\n",
       "</table>\n",
       "<p>5 rows × 75 columns</p>\n",
       "</div>"
      ],
      "text/plain": [
       "   Building_Class  Zoning_Class  Lot_Extent  Lot_Size  Road_Type  \\\n",
       "0              60             3        65.0      8450          1   \n",
       "1              20             3        80.0      9600          1   \n",
       "2              60             3        68.0     11250          1   \n",
       "3              70             3        60.0      9550          1   \n",
       "4              60             3        84.0     14260          1   \n",
       "\n",
       "   Property_Shape  Land_Outline  Utility_Type  Lot_Configuration  \\\n",
       "0               3             3             0                  4   \n",
       "1               3             3             0                  2   \n",
       "2               0             3             0                  4   \n",
       "3               0             3             0                  0   \n",
       "4               0             3             0                  2   \n",
       "\n",
       "   Property_Slope  ...  Enclosed_Lobby_Area  Three_Season_Lobby_Area  \\\n",
       "0               0  ...            20.337934                        0   \n",
       "1               0  ...            15.039392                        0   \n",
       "2               0  ...           -46.232198                        0   \n",
       "3               0  ...            60.921821                        0   \n",
       "4               0  ...            21.788818                        0   \n",
       "\n",
       "   Screen_Lobby_Area  Pool_Area  Miscellaneous_Value  Month_Sold  Year_Sold  \\\n",
       "0                  0          0                    0           2       2008   \n",
       "1                  0          0                    0           5       2007   \n",
       "2                  0          0                    0           9       2008   \n",
       "3                  0          0                    0           2       2006   \n",
       "4                  0          0                    0          12       2008   \n",
       "\n",
       "   Sale_Type  Sale_Condition  Sale_Price  \n",
       "0          8               4      208500  \n",
       "1          8               4      181500  \n",
       "2          8               4      223500  \n",
       "3          8               0      140000  \n",
       "4          8               4      250000  \n",
       "\n",
       "[5 rows x 75 columns]"
      ]
     },
     "execution_count": 41,
     "metadata": {},
     "output_type": "execute_result"
    }
   ],
   "source": [
    "df.head()"
   ]
  },
  {
   "cell_type": "code",
   "execution_count": 4,
   "id": "32f8c957",
   "metadata": {},
   "outputs": [
    {
     "name": "stdout",
     "output_type": "stream",
     "text": [
      "<class 'pandas.core.frame.DataFrame'>\n",
      "RangeIndex: 1459 entries, 0 to 1458\n",
      "Data columns (total 81 columns):\n",
      " #   Column                     Non-Null Count  Dtype  \n",
      "---  ------                     --------------  -----  \n",
      " 0   Id                         1459 non-null   int64  \n",
      " 1   Building_Class             1459 non-null   int64  \n",
      " 2   Zoning_Class               1459 non-null   object \n",
      " 3   Lot_Extent                 1200 non-null   float64\n",
      " 4   Lot_Size                   1459 non-null   int64  \n",
      " 5   Road_Type                  1459 non-null   object \n",
      " 6   Lane_Type                  91 non-null     object \n",
      " 7   Property_Shape             1459 non-null   object \n",
      " 8   Land_Outline               1459 non-null   object \n",
      " 9   Utility_Type               1459 non-null   object \n",
      " 10  Lot_Configuration          1459 non-null   object \n",
      " 11  Property_Slope             1459 non-null   object \n",
      " 12  Neighborhood               1459 non-null   object \n",
      " 13  Condition1                 1459 non-null   object \n",
      " 14  Condition2                 1459 non-null   object \n",
      " 15  House_Type                 1459 non-null   object \n",
      " 16  House_Design               1459 non-null   object \n",
      " 17  Overall_Material           1459 non-null   int64  \n",
      " 18  House_Condition            1459 non-null   int64  \n",
      " 19  Construction_Year          1459 non-null   int64  \n",
      " 20  Remodel_Year               1459 non-null   int64  \n",
      " 21  Roof_Design                1459 non-null   object \n",
      " 22  Roof_Quality               1459 non-null   object \n",
      " 23  Exterior1st                1459 non-null   object \n",
      " 24  Exterior2nd                1459 non-null   object \n",
      " 25  Brick_Veneer_Type          1451 non-null   object \n",
      " 26  Brick_Veneer_Area          1451 non-null   float64\n",
      " 27  Exterior_Material          1459 non-null   object \n",
      " 28  Exterior_Condition         1459 non-null   object \n",
      " 29  Foundation_Type            1459 non-null   object \n",
      " 30  Basement_Height            1422 non-null   object \n",
      " 31  Basement_Condition         1422 non-null   object \n",
      " 32  Exposure_Level             1421 non-null   object \n",
      " 33  BsmtFinType1               1422 non-null   object \n",
      " 34  BsmtFinSF1                 1459 non-null   int64  \n",
      " 35  BsmtFinType2               1421 non-null   object \n",
      " 36  BsmtFinSF2                 1459 non-null   int64  \n",
      " 37  BsmtUnfSF                  1459 non-null   int64  \n",
      " 38  Total_Basement_Area        1459 non-null   int64  \n",
      " 39  Heating_Type               1459 non-null   object \n",
      " 40  Heating_Quality            1459 non-null   object \n",
      " 41  Air_Conditioning           1459 non-null   object \n",
      " 42  Electrical_System          1458 non-null   object \n",
      " 43  First_Floor_Area           1459 non-null   int64  \n",
      " 44  Second_Floor_Area          1459 non-null   int64  \n",
      " 45  LowQualFinSF               1459 non-null   int64  \n",
      " 46  Grade_Living_Area          1459 non-null   int64  \n",
      " 47  Underground_Full_Bathroom  1459 non-null   int64  \n",
      " 48  Underground_Half_Bathroom  1459 non-null   int64  \n",
      " 49  Full_Bathroom_Above_Grade  1459 non-null   int64  \n",
      " 50  Half_Bathroom_Above_Grade  1459 non-null   int64  \n",
      " 51  Bedroom_Above_Grade        1459 non-null   int64  \n",
      " 52  Kitchen_Above_Grade        1459 non-null   int64  \n",
      " 53  Kitchen_Quality            1459 non-null   object \n",
      " 54  Rooms_Above_Grade          1459 non-null   int64  \n",
      " 55  Functional_Rate            1459 non-null   object \n",
      " 56  Fireplaces                 1459 non-null   int64  \n",
      " 57  Fireplace_Quality          770 non-null    object \n",
      " 58  Garage                     1378 non-null   object \n",
      " 59  Garage_Built_Year          1378 non-null   float64\n",
      " 60  Garage_Finish_Year         1378 non-null   object \n",
      " 61  Garage_Size                1459 non-null   int64  \n",
      " 62  Garage_Area                1459 non-null   float64\n",
      " 63  Garage_Quality             1378 non-null   object \n",
      " 64  Garage_Condition           1378 non-null   object \n",
      " 65  Pavedd_Drive               1459 non-null   object \n",
      " 66  W_Deck_Area                1459 non-null   float64\n",
      " 67  Open_Lobby_Area            1459 non-null   float64\n",
      " 68  Enclosed_Lobby_Area        1459 non-null   float64\n",
      " 69  Three_Season_Lobby_Area    1459 non-null   int64  \n",
      " 70  Screen_Lobby_Area          1459 non-null   int64  \n",
      " 71  Pool_Area                  1459 non-null   int64  \n",
      " 72  Pool_Quality               7 non-null      object \n",
      " 73  Fence_Quality              281 non-null    object \n",
      " 74  Miscellaneous_Feature      54 non-null     object \n",
      " 75  Miscellaneous_Value        1459 non-null   int64  \n",
      " 76  Month_Sold                 1459 non-null   int64  \n",
      " 77  Year_Sold                  1459 non-null   int64  \n",
      " 78  Sale_Type                  1459 non-null   object \n",
      " 79  Sale_Condition             1459 non-null   object \n",
      " 80  Sale_Price                 1459 non-null   int64  \n",
      "dtypes: float64(7), int64(31), object(43)\n",
      "memory usage: 923.4+ KB\n"
     ]
    }
   ],
   "source": [
    "df.info()"
   ]
  },
  {
   "cell_type": "code",
   "execution_count": 5,
   "id": "d4bd374e",
   "metadata": {},
   "outputs": [
    {
     "data": {
      "text/plain": [
       "(1459, 81)"
      ]
     },
     "execution_count": 5,
     "metadata": {},
     "output_type": "execute_result"
    }
   ],
   "source": [
    "df.shape"
   ]
  },
  {
   "cell_type": "code",
   "execution_count": 6,
   "id": "f8ac171d",
   "metadata": {},
   "outputs": [
    {
     "data": {
      "text/html": [
       "<div>\n",
       "<style scoped>\n",
       "    .dataframe tbody tr th:only-of-type {\n",
       "        vertical-align: middle;\n",
       "    }\n",
       "\n",
       "    .dataframe tbody tr th {\n",
       "        vertical-align: top;\n",
       "    }\n",
       "\n",
       "    .dataframe thead th {\n",
       "        text-align: right;\n",
       "    }\n",
       "</style>\n",
       "<table border=\"1\" class=\"dataframe\">\n",
       "  <thead>\n",
       "    <tr style=\"text-align: right;\">\n",
       "      <th></th>\n",
       "      <th>Id</th>\n",
       "      <th>Building_Class</th>\n",
       "      <th>Lot_Extent</th>\n",
       "      <th>Lot_Size</th>\n",
       "      <th>Overall_Material</th>\n",
       "      <th>House_Condition</th>\n",
       "      <th>Construction_Year</th>\n",
       "      <th>Remodel_Year</th>\n",
       "      <th>Brick_Veneer_Area</th>\n",
       "      <th>BsmtFinSF1</th>\n",
       "      <th>...</th>\n",
       "      <th>W_Deck_Area</th>\n",
       "      <th>Open_Lobby_Area</th>\n",
       "      <th>Enclosed_Lobby_Area</th>\n",
       "      <th>Three_Season_Lobby_Area</th>\n",
       "      <th>Screen_Lobby_Area</th>\n",
       "      <th>Pool_Area</th>\n",
       "      <th>Miscellaneous_Value</th>\n",
       "      <th>Month_Sold</th>\n",
       "      <th>Year_Sold</th>\n",
       "      <th>Sale_Price</th>\n",
       "    </tr>\n",
       "  </thead>\n",
       "  <tbody>\n",
       "    <tr>\n",
       "      <th>count</th>\n",
       "      <td>1459.000000</td>\n",
       "      <td>1459.000000</td>\n",
       "      <td>1200.000000</td>\n",
       "      <td>1459.000000</td>\n",
       "      <td>1459.000000</td>\n",
       "      <td>1459.000000</td>\n",
       "      <td>1459.000000</td>\n",
       "      <td>1459.000000</td>\n",
       "      <td>1451.00000</td>\n",
       "      <td>1459.000000</td>\n",
       "      <td>...</td>\n",
       "      <td>1459.000000</td>\n",
       "      <td>1459.000000</td>\n",
       "      <td>1459.000000</td>\n",
       "      <td>1459.000000</td>\n",
       "      <td>1459.000000</td>\n",
       "      <td>1459.000000</td>\n",
       "      <td>1459.000000</td>\n",
       "      <td>1459.000000</td>\n",
       "      <td>1459.000000</td>\n",
       "      <td>1459.000000</td>\n",
       "    </tr>\n",
       "    <tr>\n",
       "      <th>mean</th>\n",
       "      <td>730.000000</td>\n",
       "      <td>56.922550</td>\n",
       "      <td>70.045833</td>\n",
       "      <td>10517.225497</td>\n",
       "      <td>6.100069</td>\n",
       "      <td>5.575051</td>\n",
       "      <td>1971.272104</td>\n",
       "      <td>1984.879369</td>\n",
       "      <td>103.75672</td>\n",
       "      <td>443.374914</td>\n",
       "      <td>...</td>\n",
       "      <td>93.015667</td>\n",
       "      <td>47.811902</td>\n",
       "      <td>24.580227</td>\n",
       "      <td>3.411926</td>\n",
       "      <td>15.071282</td>\n",
       "      <td>2.760795</td>\n",
       "      <td>43.518849</td>\n",
       "      <td>6.322138</td>\n",
       "      <td>2007.815627</td>\n",
       "      <td>180944.102810</td>\n",
       "    </tr>\n",
       "    <tr>\n",
       "      <th>std</th>\n",
       "      <td>421.321334</td>\n",
       "      <td>42.304033</td>\n",
       "      <td>24.294456</td>\n",
       "      <td>9984.675721</td>\n",
       "      <td>1.383171</td>\n",
       "      <td>1.113125</td>\n",
       "      <td>30.212814</td>\n",
       "      <td>20.645927</td>\n",
       "      <td>181.10815</td>\n",
       "      <td>456.142186</td>\n",
       "      <td>...</td>\n",
       "      <td>124.796682</td>\n",
       "      <td>67.467586</td>\n",
       "      <td>61.353507</td>\n",
       "      <td>29.327247</td>\n",
       "      <td>55.775138</td>\n",
       "      <td>40.191018</td>\n",
       "      <td>496.291826</td>\n",
       "      <td>2.704540</td>\n",
       "      <td>1.328542</td>\n",
       "      <td>79464.918335</td>\n",
       "    </tr>\n",
       "    <tr>\n",
       "      <th>min</th>\n",
       "      <td>1.000000</td>\n",
       "      <td>20.000000</td>\n",
       "      <td>21.000000</td>\n",
       "      <td>1300.000000</td>\n",
       "      <td>1.000000</td>\n",
       "      <td>1.000000</td>\n",
       "      <td>1872.000000</td>\n",
       "      <td>1950.000000</td>\n",
       "      <td>0.00000</td>\n",
       "      <td>0.000000</td>\n",
       "      <td>...</td>\n",
       "      <td>-338.112031</td>\n",
       "      <td>-187.149958</td>\n",
       "      <td>-164.807386</td>\n",
       "      <td>0.000000</td>\n",
       "      <td>0.000000</td>\n",
       "      <td>0.000000</td>\n",
       "      <td>0.000000</td>\n",
       "      <td>1.000000</td>\n",
       "      <td>2006.000000</td>\n",
       "      <td>34900.000000</td>\n",
       "    </tr>\n",
       "    <tr>\n",
       "      <th>25%</th>\n",
       "      <td>365.500000</td>\n",
       "      <td>20.000000</td>\n",
       "      <td>59.000000</td>\n",
       "      <td>7549.000000</td>\n",
       "      <td>5.000000</td>\n",
       "      <td>5.000000</td>\n",
       "      <td>1954.000000</td>\n",
       "      <td>1967.000000</td>\n",
       "      <td>0.00000</td>\n",
       "      <td>0.000000</td>\n",
       "      <td>...</td>\n",
       "      <td>9.656026</td>\n",
       "      <td>1.843186</td>\n",
       "      <td>-16.807302</td>\n",
       "      <td>0.000000</td>\n",
       "      <td>0.000000</td>\n",
       "      <td>0.000000</td>\n",
       "      <td>0.000000</td>\n",
       "      <td>5.000000</td>\n",
       "      <td>2007.000000</td>\n",
       "      <td>129950.000000</td>\n",
       "    </tr>\n",
       "    <tr>\n",
       "      <th>50%</th>\n",
       "      <td>730.000000</td>\n",
       "      <td>50.000000</td>\n",
       "      <td>69.000000</td>\n",
       "      <td>9477.000000</td>\n",
       "      <td>6.000000</td>\n",
       "      <td>5.000000</td>\n",
       "      <td>1973.000000</td>\n",
       "      <td>1994.000000</td>\n",
       "      <td>0.00000</td>\n",
       "      <td>383.000000</td>\n",
       "      <td>...</td>\n",
       "      <td>92.803628</td>\n",
       "      <td>46.837919</td>\n",
       "      <td>25.026953</td>\n",
       "      <td>0.000000</td>\n",
       "      <td>0.000000</td>\n",
       "      <td>0.000000</td>\n",
       "      <td>0.000000</td>\n",
       "      <td>6.000000</td>\n",
       "      <td>2008.000000</td>\n",
       "      <td>163000.000000</td>\n",
       "    </tr>\n",
       "    <tr>\n",
       "      <th>75%</th>\n",
       "      <td>1094.500000</td>\n",
       "      <td>70.000000</td>\n",
       "      <td>80.000000</td>\n",
       "      <td>11603.000000</td>\n",
       "      <td>7.000000</td>\n",
       "      <td>6.000000</td>\n",
       "      <td>2000.000000</td>\n",
       "      <td>2004.000000</td>\n",
       "      <td>166.00000</td>\n",
       "      <td>712.000000</td>\n",
       "      <td>...</td>\n",
       "      <td>180.335986</td>\n",
       "      <td>96.523486</td>\n",
       "      <td>66.237591</td>\n",
       "      <td>0.000000</td>\n",
       "      <td>0.000000</td>\n",
       "      <td>0.000000</td>\n",
       "      <td>0.000000</td>\n",
       "      <td>8.000000</td>\n",
       "      <td>2009.000000</td>\n",
       "      <td>214000.000000</td>\n",
       "    </tr>\n",
       "    <tr>\n",
       "      <th>max</th>\n",
       "      <td>1459.000000</td>\n",
       "      <td>190.000000</td>\n",
       "      <td>313.000000</td>\n",
       "      <td>215245.000000</td>\n",
       "      <td>10.000000</td>\n",
       "      <td>9.000000</td>\n",
       "      <td>2010.000000</td>\n",
       "      <td>2010.000000</td>\n",
       "      <td>1600.00000</td>\n",
       "      <td>5644.000000</td>\n",
       "      <td>...</td>\n",
       "      <td>572.298709</td>\n",
       "      <td>255.362547</td>\n",
       "      <td>225.762714</td>\n",
       "      <td>508.000000</td>\n",
       "      <td>480.000000</td>\n",
       "      <td>738.000000</td>\n",
       "      <td>15500.000000</td>\n",
       "      <td>12.000000</td>\n",
       "      <td>2010.000000</td>\n",
       "      <td>755000.000000</td>\n",
       "    </tr>\n",
       "  </tbody>\n",
       "</table>\n",
       "<p>8 rows × 38 columns</p>\n",
       "</div>"
      ],
      "text/plain": [
       "                Id  Building_Class   Lot_Extent       Lot_Size  \\\n",
       "count  1459.000000     1459.000000  1200.000000    1459.000000   \n",
       "mean    730.000000       56.922550    70.045833   10517.225497   \n",
       "std     421.321334       42.304033    24.294456    9984.675721   \n",
       "min       1.000000       20.000000    21.000000    1300.000000   \n",
       "25%     365.500000       20.000000    59.000000    7549.000000   \n",
       "50%     730.000000       50.000000    69.000000    9477.000000   \n",
       "75%    1094.500000       70.000000    80.000000   11603.000000   \n",
       "max    1459.000000      190.000000   313.000000  215245.000000   \n",
       "\n",
       "       Overall_Material  House_Condition  Construction_Year  Remodel_Year  \\\n",
       "count       1459.000000      1459.000000        1459.000000   1459.000000   \n",
       "mean           6.100069         5.575051        1971.272104   1984.879369   \n",
       "std            1.383171         1.113125          30.212814     20.645927   \n",
       "min            1.000000         1.000000        1872.000000   1950.000000   \n",
       "25%            5.000000         5.000000        1954.000000   1967.000000   \n",
       "50%            6.000000         5.000000        1973.000000   1994.000000   \n",
       "75%            7.000000         6.000000        2000.000000   2004.000000   \n",
       "max           10.000000         9.000000        2010.000000   2010.000000   \n",
       "\n",
       "       Brick_Veneer_Area   BsmtFinSF1  ...  W_Deck_Area  Open_Lobby_Area  \\\n",
       "count         1451.00000  1459.000000  ...  1459.000000      1459.000000   \n",
       "mean           103.75672   443.374914  ...    93.015667        47.811902   \n",
       "std            181.10815   456.142186  ...   124.796682        67.467586   \n",
       "min              0.00000     0.000000  ...  -338.112031      -187.149958   \n",
       "25%              0.00000     0.000000  ...     9.656026         1.843186   \n",
       "50%              0.00000   383.000000  ...    92.803628        46.837919   \n",
       "75%            166.00000   712.000000  ...   180.335986        96.523486   \n",
       "max           1600.00000  5644.000000  ...   572.298709       255.362547   \n",
       "\n",
       "       Enclosed_Lobby_Area  Three_Season_Lobby_Area  Screen_Lobby_Area  \\\n",
       "count          1459.000000              1459.000000        1459.000000   \n",
       "mean             24.580227                 3.411926          15.071282   \n",
       "std              61.353507                29.327247          55.775138   \n",
       "min            -164.807386                 0.000000           0.000000   \n",
       "25%             -16.807302                 0.000000           0.000000   \n",
       "50%              25.026953                 0.000000           0.000000   \n",
       "75%              66.237591                 0.000000           0.000000   \n",
       "max             225.762714               508.000000         480.000000   \n",
       "\n",
       "         Pool_Area  Miscellaneous_Value   Month_Sold    Year_Sold  \\\n",
       "count  1459.000000          1459.000000  1459.000000  1459.000000   \n",
       "mean      2.760795            43.518849     6.322138  2007.815627   \n",
       "std      40.191018           496.291826     2.704540     1.328542   \n",
       "min       0.000000             0.000000     1.000000  2006.000000   \n",
       "25%       0.000000             0.000000     5.000000  2007.000000   \n",
       "50%       0.000000             0.000000     6.000000  2008.000000   \n",
       "75%       0.000000             0.000000     8.000000  2009.000000   \n",
       "max     738.000000         15500.000000    12.000000  2010.000000   \n",
       "\n",
       "          Sale_Price  \n",
       "count    1459.000000  \n",
       "mean   180944.102810  \n",
       "std     79464.918335  \n",
       "min     34900.000000  \n",
       "25%    129950.000000  \n",
       "50%    163000.000000  \n",
       "75%    214000.000000  \n",
       "max    755000.000000  \n",
       "\n",
       "[8 rows x 38 columns]"
      ]
     },
     "execution_count": 6,
     "metadata": {},
     "output_type": "execute_result"
    }
   ],
   "source": [
    "df.describe()"
   ]
  },
  {
   "cell_type": "code",
   "execution_count": 7,
   "id": "13fecf8e",
   "metadata": {},
   "outputs": [
    {
     "data": {
      "text/plain": [
       "Id                  0\n",
       "Building_Class      0\n",
       "Zoning_Class        0\n",
       "Lot_Extent        259\n",
       "Lot_Size            0\n",
       "                 ... \n",
       "Month_Sold          0\n",
       "Year_Sold           0\n",
       "Sale_Type           0\n",
       "Sale_Condition      0\n",
       "Sale_Price          0\n",
       "Length: 81, dtype: int64"
      ]
     },
     "execution_count": 7,
     "metadata": {},
     "output_type": "execute_result"
    }
   ],
   "source": [
    "df.isnull().sum()"
   ]
  },
  {
   "cell_type": "code",
   "execution_count": 8,
   "id": "a16f5d84",
   "metadata": {},
   "outputs": [
    {
     "data": {
      "text/plain": [
       "Id                False\n",
       "Building_Class    False\n",
       "Zoning_Class      False\n",
       "Lot_Extent        False\n",
       "Lot_Size          False\n",
       "                  ...  \n",
       "Month_Sold        False\n",
       "Year_Sold         False\n",
       "Sale_Type         False\n",
       "Sale_Condition    False\n",
       "Sale_Price        False\n",
       "Length: 81, dtype: bool"
      ]
     },
     "execution_count": 8,
     "metadata": {},
     "output_type": "execute_result"
    }
   ],
   "source": [
    "df.isnull().sum()>500"
   ]
  },
  {
   "cell_type": "code",
   "execution_count": 9,
   "id": "2febe5bc",
   "metadata": {},
   "outputs": [
    {
     "data": {
      "text/plain": [
       "Index(['Lane_Type', 'Fireplace_Quality', 'Pool_Quality', 'Fence_Quality',\n",
       "       'Miscellaneous_Feature'],\n",
       "      dtype='object')"
      ]
     },
     "execution_count": 9,
     "metadata": {},
     "output_type": "execute_result"
    }
   ],
   "source": [
    "df.columns[df.isnull().sum()>df.shape[0]*0.45]"
   ]
  },
  {
   "cell_type": "code",
   "execution_count": 10,
   "id": "3291236b",
   "metadata": {},
   "outputs": [],
   "source": [
    "df = df.drop(['Id', 'Lane_Type', 'Fireplace_Quality', 'Pool_Quality', 'Fence_Quality', 'Miscellaneous_Feature'], axis=1)"
   ]
  },
  {
   "cell_type": "code",
   "execution_count": 11,
   "id": "1ba22392",
   "metadata": {},
   "outputs": [
    {
     "data": {
      "text/plain": [
       "(1459, 75)"
      ]
     },
     "execution_count": 11,
     "metadata": {},
     "output_type": "execute_result"
    }
   ],
   "source": [
    "df.shape"
   ]
  },
  {
   "cell_type": "code",
   "execution_count": 12,
   "id": "802d8e68",
   "metadata": {},
   "outputs": [
    {
     "data": {
      "text/plain": [
       "Index([], dtype='object')"
      ]
     },
     "execution_count": 12,
     "metadata": {},
     "output_type": "execute_result"
    }
   ],
   "source": [
    "df.columns[df.isnull().sum()>df.shape[0]*0.45]"
   ]
  },
  {
   "cell_type": "code",
   "execution_count": 13,
   "id": "59be764a",
   "metadata": {},
   "outputs": [
    {
     "data": {
      "text/plain": [
       "Index(['Lot_Extent', 'Brick_Veneer_Type', 'Brick_Veneer_Area',\n",
       "       'Basement_Height', 'Basement_Condition', 'Exposure_Level',\n",
       "       'BsmtFinType1', 'BsmtFinType2', 'Electrical_System', 'Garage',\n",
       "       'Garage_Built_Year', 'Garage_Finish_Year', 'Garage_Quality',\n",
       "       'Garage_Condition'],\n",
       "      dtype='object')"
      ]
     },
     "execution_count": 13,
     "metadata": {},
     "output_type": "execute_result"
    }
   ],
   "source": [
    "df.columns[df.isnull().sum()>0]"
   ]
  },
  {
   "cell_type": "code",
   "execution_count": 14,
   "id": "eb7f997e",
   "metadata": {},
   "outputs": [
    {
     "data": {
      "text/plain": [
       "14"
      ]
     },
     "execution_count": 14,
     "metadata": {},
     "output_type": "execute_result"
    }
   ],
   "source": [
    "len(df.columns[df.isnull().sum()>0])"
   ]
  },
  {
   "cell_type": "code",
   "execution_count": 15,
   "id": "ccc1486e",
   "metadata": {},
   "outputs": [],
   "source": [
    "df.Basement_Height.fillna('TA' , inplace = True)\n",
    "df.Exposure_Level.fillna('No' , inplace = True)\n",
    "df.BsmtFinType1.fillna('Unf' , inplace = True)\n",
    "df.BsmtFinType2.fillna('Unf' , inplace = True)\n",
    "df.Electrical_System.fillna('SBrkr' , inplace = True)\n",
    "df.Garage.fillna('Attchd' , inplace = True)\n",
    "df.Garage_Finish_Year.fillna('Unf' , inplace = True)\n",
    "df.Garage_Built_Year.fillna(df.Garage_Built_Year.median(), inplace=True)\n",
    "df.Garage_Quality.fillna('TA' , inplace = True)\n",
    "df.Basement_Condition.fillna('TA' , inplace = True)\n",
    "df.Garage_Condition  = df.Garage_Condition.fillna('TA')\n",
    "df.Brick_Veneer_Type  = df.Brick_Veneer_Type.fillna('None')\n",
    "df.Brick_Veneer_Area.fillna(df.Brick_Veneer_Area.median(), inplace=True)\n",
    "df.Lot_Extent.fillna(df.Lot_Extent.median(), inplace=True)"
   ]
  },
  {
   "cell_type": "code",
   "execution_count": 16,
   "id": "4408471d",
   "metadata": {},
   "outputs": [
    {
     "data": {
      "text/plain": [
       "Index([], dtype='object')"
      ]
     },
     "execution_count": 16,
     "metadata": {},
     "output_type": "execute_result"
    }
   ],
   "source": [
    "df.columns[df.isnull().sum()>0]"
   ]
  },
  {
   "cell_type": "code",
   "execution_count": 17,
   "id": "740c4bd5",
   "metadata": {},
   "outputs": [
    {
     "name": "stdout",
     "output_type": "stream",
     "text": [
      "<class 'pandas.core.frame.DataFrame'>\n",
      "RangeIndex: 1459 entries, 0 to 1458\n",
      "Data columns (total 75 columns):\n",
      " #   Column                     Non-Null Count  Dtype  \n",
      "---  ------                     --------------  -----  \n",
      " 0   Building_Class             1459 non-null   int64  \n",
      " 1   Zoning_Class               1459 non-null   object \n",
      " 2   Lot_Extent                 1459 non-null   float64\n",
      " 3   Lot_Size                   1459 non-null   int64  \n",
      " 4   Road_Type                  1459 non-null   object \n",
      " 5   Property_Shape             1459 non-null   object \n",
      " 6   Land_Outline               1459 non-null   object \n",
      " 7   Utility_Type               1459 non-null   object \n",
      " 8   Lot_Configuration          1459 non-null   object \n",
      " 9   Property_Slope             1459 non-null   object \n",
      " 10  Neighborhood               1459 non-null   object \n",
      " 11  Condition1                 1459 non-null   object \n",
      " 12  Condition2                 1459 non-null   object \n",
      " 13  House_Type                 1459 non-null   object \n",
      " 14  House_Design               1459 non-null   object \n",
      " 15  Overall_Material           1459 non-null   int64  \n",
      " 16  House_Condition            1459 non-null   int64  \n",
      " 17  Construction_Year          1459 non-null   int64  \n",
      " 18  Remodel_Year               1459 non-null   int64  \n",
      " 19  Roof_Design                1459 non-null   object \n",
      " 20  Roof_Quality               1459 non-null   object \n",
      " 21  Exterior1st                1459 non-null   object \n",
      " 22  Exterior2nd                1459 non-null   object \n",
      " 23  Brick_Veneer_Type          1459 non-null   object \n",
      " 24  Brick_Veneer_Area          1459 non-null   float64\n",
      " 25  Exterior_Material          1459 non-null   object \n",
      " 26  Exterior_Condition         1459 non-null   object \n",
      " 27  Foundation_Type            1459 non-null   object \n",
      " 28  Basement_Height            1459 non-null   object \n",
      " 29  Basement_Condition         1459 non-null   object \n",
      " 30  Exposure_Level             1459 non-null   object \n",
      " 31  BsmtFinType1               1459 non-null   object \n",
      " 32  BsmtFinSF1                 1459 non-null   int64  \n",
      " 33  BsmtFinType2               1459 non-null   object \n",
      " 34  BsmtFinSF2                 1459 non-null   int64  \n",
      " 35  BsmtUnfSF                  1459 non-null   int64  \n",
      " 36  Total_Basement_Area        1459 non-null   int64  \n",
      " 37  Heating_Type               1459 non-null   object \n",
      " 38  Heating_Quality            1459 non-null   object \n",
      " 39  Air_Conditioning           1459 non-null   object \n",
      " 40  Electrical_System          1459 non-null   object \n",
      " 41  First_Floor_Area           1459 non-null   int64  \n",
      " 42  Second_Floor_Area          1459 non-null   int64  \n",
      " 43  LowQualFinSF               1459 non-null   int64  \n",
      " 44  Grade_Living_Area          1459 non-null   int64  \n",
      " 45  Underground_Full_Bathroom  1459 non-null   int64  \n",
      " 46  Underground_Half_Bathroom  1459 non-null   int64  \n",
      " 47  Full_Bathroom_Above_Grade  1459 non-null   int64  \n",
      " 48  Half_Bathroom_Above_Grade  1459 non-null   int64  \n",
      " 49  Bedroom_Above_Grade        1459 non-null   int64  \n",
      " 50  Kitchen_Above_Grade        1459 non-null   int64  \n",
      " 51  Kitchen_Quality            1459 non-null   object \n",
      " 52  Rooms_Above_Grade          1459 non-null   int64  \n",
      " 53  Functional_Rate            1459 non-null   object \n",
      " 54  Fireplaces                 1459 non-null   int64  \n",
      " 55  Garage                     1459 non-null   object \n",
      " 56  Garage_Built_Year          1459 non-null   float64\n",
      " 57  Garage_Finish_Year         1459 non-null   object \n",
      " 58  Garage_Size                1459 non-null   int64  \n",
      " 59  Garage_Area                1459 non-null   float64\n",
      " 60  Garage_Quality             1459 non-null   object \n",
      " 61  Garage_Condition           1459 non-null   object \n",
      " 62  Pavedd_Drive               1459 non-null   object \n",
      " 63  W_Deck_Area                1459 non-null   float64\n",
      " 64  Open_Lobby_Area            1459 non-null   float64\n",
      " 65  Enclosed_Lobby_Area        1459 non-null   float64\n",
      " 66  Three_Season_Lobby_Area    1459 non-null   int64  \n",
      " 67  Screen_Lobby_Area          1459 non-null   int64  \n",
      " 68  Pool_Area                  1459 non-null   int64  \n",
      " 69  Miscellaneous_Value        1459 non-null   int64  \n",
      " 70  Month_Sold                 1459 non-null   int64  \n",
      " 71  Year_Sold                  1459 non-null   int64  \n",
      " 72  Sale_Type                  1459 non-null   object \n",
      " 73  Sale_Condition             1459 non-null   object \n",
      " 74  Sale_Price                 1459 non-null   int64  \n",
      "dtypes: float64(7), int64(30), object(38)\n",
      "memory usage: 855.0+ KB\n"
     ]
    }
   ],
   "source": [
    "df.info()"
   ]
  },
  {
   "cell_type": "code",
   "execution_count": 18,
   "id": "709646fa",
   "metadata": {},
   "outputs": [
    {
     "data": {
      "text/plain": [
       "Index(['Zoning_Class', 'Road_Type', 'Property_Shape', 'Land_Outline',\n",
       "       'Utility_Type', 'Lot_Configuration', 'Property_Slope', 'Neighborhood',\n",
       "       'Condition1', 'Condition2', 'House_Type', 'House_Design', 'Roof_Design',\n",
       "       'Roof_Quality', 'Exterior1st', 'Exterior2nd', 'Brick_Veneer_Type',\n",
       "       'Exterior_Material', 'Exterior_Condition', 'Foundation_Type',\n",
       "       'Basement_Height', 'Basement_Condition', 'Exposure_Level',\n",
       "       'BsmtFinType1', 'BsmtFinType2', 'Heating_Type', 'Heating_Quality',\n",
       "       'Air_Conditioning', 'Electrical_System', 'Kitchen_Quality',\n",
       "       'Functional_Rate', 'Garage', 'Garage_Finish_Year', 'Garage_Quality',\n",
       "       'Garage_Condition', 'Pavedd_Drive', 'Sale_Type', 'Sale_Condition'],\n",
       "      dtype='object')"
      ]
     },
     "execution_count": 18,
     "metadata": {},
     "output_type": "execute_result"
    }
   ],
   "source": [
    "df.select_dtypes(include='object').columns"
   ]
  },
  {
   "cell_type": "code",
   "execution_count": 19,
   "id": "9e3f5a4f",
   "metadata": {},
   "outputs": [
    {
     "data": {
      "text/plain": [
       "38"
      ]
     },
     "execution_count": 19,
     "metadata": {},
     "output_type": "execute_result"
    }
   ],
   "source": [
    "len(df.select_dtypes(include='object').columns)"
   ]
  },
  {
   "cell_type": "code",
   "execution_count": 20,
   "id": "fa8435a3",
   "metadata": {},
   "outputs": [],
   "source": [
    "from sklearn.preprocessing import  LabelEncoder\n",
    "le = LabelEncoder()"
   ]
  },
  {
   "cell_type": "code",
   "execution_count": 21,
   "id": "ac13fcdd",
   "metadata": {},
   "outputs": [],
   "source": [
    "df[df.select_dtypes(include=['object']).columns]  = df[df.select_dtypes(include=['object']).columns].apply(le.fit_transform)"
   ]
  },
  {
   "cell_type": "code",
   "execution_count": 22,
   "id": "4942a4c8",
   "metadata": {},
   "outputs": [
    {
     "data": {
      "text/plain": [
       "Index([], dtype='object')"
      ]
     },
     "execution_count": 22,
     "metadata": {},
     "output_type": "execute_result"
    }
   ],
   "source": [
    "df.select_dtypes(include='object').columns"
   ]
  },
  {
   "cell_type": "code",
   "execution_count": 23,
   "id": "e3528151",
   "metadata": {},
   "outputs": [
    {
     "data": {
      "text/plain": [
       "0"
      ]
     },
     "execution_count": 23,
     "metadata": {},
     "output_type": "execute_result"
    }
   ],
   "source": [
    "len(df.select_dtypes(include='object').columns)"
   ]
  },
  {
   "cell_type": "code",
   "execution_count": 24,
   "id": "fc66477c",
   "metadata": {},
   "outputs": [
    {
     "name": "stdout",
     "output_type": "stream",
     "text": [
      "<class 'pandas.core.frame.DataFrame'>\n",
      "RangeIndex: 1459 entries, 0 to 1458\n",
      "Data columns (total 75 columns):\n",
      " #   Column                     Non-Null Count  Dtype  \n",
      "---  ------                     --------------  -----  \n",
      " 0   Building_Class             1459 non-null   int64  \n",
      " 1   Zoning_Class               1459 non-null   int32  \n",
      " 2   Lot_Extent                 1459 non-null   float64\n",
      " 3   Lot_Size                   1459 non-null   int64  \n",
      " 4   Road_Type                  1459 non-null   int32  \n",
      " 5   Property_Shape             1459 non-null   int32  \n",
      " 6   Land_Outline               1459 non-null   int32  \n",
      " 7   Utility_Type               1459 non-null   int32  \n",
      " 8   Lot_Configuration          1459 non-null   int32  \n",
      " 9   Property_Slope             1459 non-null   int32  \n",
      " 10  Neighborhood               1459 non-null   int32  \n",
      " 11  Condition1                 1459 non-null   int32  \n",
      " 12  Condition2                 1459 non-null   int32  \n",
      " 13  House_Type                 1459 non-null   int32  \n",
      " 14  House_Design               1459 non-null   int32  \n",
      " 15  Overall_Material           1459 non-null   int64  \n",
      " 16  House_Condition            1459 non-null   int64  \n",
      " 17  Construction_Year          1459 non-null   int64  \n",
      " 18  Remodel_Year               1459 non-null   int64  \n",
      " 19  Roof_Design                1459 non-null   int32  \n",
      " 20  Roof_Quality               1459 non-null   int32  \n",
      " 21  Exterior1st                1459 non-null   int32  \n",
      " 22  Exterior2nd                1459 non-null   int32  \n",
      " 23  Brick_Veneer_Type          1459 non-null   int32  \n",
      " 24  Brick_Veneer_Area          1459 non-null   float64\n",
      " 25  Exterior_Material          1459 non-null   int32  \n",
      " 26  Exterior_Condition         1459 non-null   int32  \n",
      " 27  Foundation_Type            1459 non-null   int32  \n",
      " 28  Basement_Height            1459 non-null   int32  \n",
      " 29  Basement_Condition         1459 non-null   int32  \n",
      " 30  Exposure_Level             1459 non-null   int32  \n",
      " 31  BsmtFinType1               1459 non-null   int32  \n",
      " 32  BsmtFinSF1                 1459 non-null   int64  \n",
      " 33  BsmtFinType2               1459 non-null   int32  \n",
      " 34  BsmtFinSF2                 1459 non-null   int64  \n",
      " 35  BsmtUnfSF                  1459 non-null   int64  \n",
      " 36  Total_Basement_Area        1459 non-null   int64  \n",
      " 37  Heating_Type               1459 non-null   int32  \n",
      " 38  Heating_Quality            1459 non-null   int32  \n",
      " 39  Air_Conditioning           1459 non-null   int32  \n",
      " 40  Electrical_System          1459 non-null   int32  \n",
      " 41  First_Floor_Area           1459 non-null   int64  \n",
      " 42  Second_Floor_Area          1459 non-null   int64  \n",
      " 43  LowQualFinSF               1459 non-null   int64  \n",
      " 44  Grade_Living_Area          1459 non-null   int64  \n",
      " 45  Underground_Full_Bathroom  1459 non-null   int64  \n",
      " 46  Underground_Half_Bathroom  1459 non-null   int64  \n",
      " 47  Full_Bathroom_Above_Grade  1459 non-null   int64  \n",
      " 48  Half_Bathroom_Above_Grade  1459 non-null   int64  \n",
      " 49  Bedroom_Above_Grade        1459 non-null   int64  \n",
      " 50  Kitchen_Above_Grade        1459 non-null   int64  \n",
      " 51  Kitchen_Quality            1459 non-null   int32  \n",
      " 52  Rooms_Above_Grade          1459 non-null   int64  \n",
      " 53  Functional_Rate            1459 non-null   int32  \n",
      " 54  Fireplaces                 1459 non-null   int64  \n",
      " 55  Garage                     1459 non-null   int32  \n",
      " 56  Garage_Built_Year          1459 non-null   float64\n",
      " 57  Garage_Finish_Year         1459 non-null   int32  \n",
      " 58  Garage_Size                1459 non-null   int64  \n",
      " 59  Garage_Area                1459 non-null   float64\n",
      " 60  Garage_Quality             1459 non-null   int32  \n",
      " 61  Garage_Condition           1459 non-null   int32  \n",
      " 62  Pavedd_Drive               1459 non-null   int32  \n",
      " 63  W_Deck_Area                1459 non-null   float64\n",
      " 64  Open_Lobby_Area            1459 non-null   float64\n",
      " 65  Enclosed_Lobby_Area        1459 non-null   float64\n",
      " 66  Three_Season_Lobby_Area    1459 non-null   int64  \n",
      " 67  Screen_Lobby_Area          1459 non-null   int64  \n",
      " 68  Pool_Area                  1459 non-null   int64  \n",
      " 69  Miscellaneous_Value        1459 non-null   int64  \n",
      " 70  Month_Sold                 1459 non-null   int64  \n",
      " 71  Year_Sold                  1459 non-null   int64  \n",
      " 72  Sale_Type                  1459 non-null   int32  \n",
      " 73  Sale_Condition             1459 non-null   int32  \n",
      " 74  Sale_Price                 1459 non-null   int64  \n",
      "dtypes: float64(7), int32(38), int64(30)\n",
      "memory usage: 638.4 KB\n"
     ]
    }
   ],
   "source": [
    "df.info()"
   ]
  },
  {
   "cell_type": "markdown",
   "id": "7c23228f",
   "metadata": {},
   "source": [
    "## Linear Regression"
   ]
  },
  {
   "cell_type": "code",
   "execution_count": 25,
   "id": "ebe73530",
   "metadata": {},
   "outputs": [],
   "source": [
    "from sklearn.model_selection import train_test_split\n",
    "from sklearn.linear_model import LinearRegression\n",
    "lr = LinearRegression()"
   ]
  },
  {
   "cell_type": "code",
   "execution_count": 26,
   "id": "70e10c9c",
   "metadata": {},
   "outputs": [
    {
     "data": {
      "text/html": [
       "<div>\n",
       "<style scoped>\n",
       "    .dataframe tbody tr th:only-of-type {\n",
       "        vertical-align: middle;\n",
       "    }\n",
       "\n",
       "    .dataframe tbody tr th {\n",
       "        vertical-align: top;\n",
       "    }\n",
       "\n",
       "    .dataframe thead th {\n",
       "        text-align: right;\n",
       "    }\n",
       "</style>\n",
       "<table border=\"1\" class=\"dataframe\">\n",
       "  <thead>\n",
       "    <tr style=\"text-align: right;\">\n",
       "      <th></th>\n",
       "      <th>Building_Class</th>\n",
       "      <th>Zoning_Class</th>\n",
       "      <th>Lot_Extent</th>\n",
       "      <th>Lot_Size</th>\n",
       "      <th>Road_Type</th>\n",
       "      <th>Property_Shape</th>\n",
       "      <th>Land_Outline</th>\n",
       "      <th>Utility_Type</th>\n",
       "      <th>Lot_Configuration</th>\n",
       "      <th>Property_Slope</th>\n",
       "      <th>...</th>\n",
       "      <th>Enclosed_Lobby_Area</th>\n",
       "      <th>Three_Season_Lobby_Area</th>\n",
       "      <th>Screen_Lobby_Area</th>\n",
       "      <th>Pool_Area</th>\n",
       "      <th>Miscellaneous_Value</th>\n",
       "      <th>Month_Sold</th>\n",
       "      <th>Year_Sold</th>\n",
       "      <th>Sale_Type</th>\n",
       "      <th>Sale_Condition</th>\n",
       "      <th>Sale_Price</th>\n",
       "    </tr>\n",
       "  </thead>\n",
       "  <tbody>\n",
       "    <tr>\n",
       "      <th>0</th>\n",
       "      <td>60</td>\n",
       "      <td>3</td>\n",
       "      <td>65.0</td>\n",
       "      <td>8450</td>\n",
       "      <td>1</td>\n",
       "      <td>3</td>\n",
       "      <td>3</td>\n",
       "      <td>0</td>\n",
       "      <td>4</td>\n",
       "      <td>0</td>\n",
       "      <td>...</td>\n",
       "      <td>20.337934</td>\n",
       "      <td>0</td>\n",
       "      <td>0</td>\n",
       "      <td>0</td>\n",
       "      <td>0</td>\n",
       "      <td>2</td>\n",
       "      <td>2008</td>\n",
       "      <td>8</td>\n",
       "      <td>4</td>\n",
       "      <td>208500</td>\n",
       "    </tr>\n",
       "  </tbody>\n",
       "</table>\n",
       "<p>1 rows × 75 columns</p>\n",
       "</div>"
      ],
      "text/plain": [
       "   Building_Class  Zoning_Class  Lot_Extent  Lot_Size  Road_Type  \\\n",
       "0              60             3        65.0      8450          1   \n",
       "\n",
       "   Property_Shape  Land_Outline  Utility_Type  Lot_Configuration  \\\n",
       "0               3             3             0                  4   \n",
       "\n",
       "   Property_Slope  ...  Enclosed_Lobby_Area  Three_Season_Lobby_Area  \\\n",
       "0               0  ...            20.337934                        0   \n",
       "\n",
       "   Screen_Lobby_Area  Pool_Area  Miscellaneous_Value  Month_Sold  Year_Sold  \\\n",
       "0                  0          0                    0           2       2008   \n",
       "\n",
       "   Sale_Type  Sale_Condition  Sale_Price  \n",
       "0          8               4      208500  \n",
       "\n",
       "[1 rows x 75 columns]"
      ]
     },
     "execution_count": 26,
     "metadata": {},
     "output_type": "execute_result"
    }
   ],
   "source": [
    "df.head(1)"
   ]
  },
  {
   "cell_type": "code",
   "execution_count": null,
   "id": "f28e4ff8",
   "metadata": {},
   "outputs": [],
   "source": []
  },
  {
   "cell_type": "code",
   "execution_count": 27,
   "id": "2cd45743",
   "metadata": {},
   "outputs": [],
   "source": [
    "x = df.iloc[:, 0:-1]\n",
    "y = df.iloc[:, -1] "
   ]
  },
  {
   "cell_type": "code",
   "execution_count": 28,
   "id": "9b45e4a0",
   "metadata": {},
   "outputs": [],
   "source": [
    "x_train, x_test, y_train, y_test = train_test_split(x,y, test_size=0.2)"
   ]
  },
  {
   "cell_type": "code",
   "execution_count": 29,
   "id": "427c23f9",
   "metadata": {},
   "outputs": [
    {
     "name": "stdout",
     "output_type": "stream",
     "text": [
      "(1167, 74)\n",
      "(292, 74)\n",
      "(1167,)\n",
      "(292, 74)\n"
     ]
    }
   ],
   "source": [
    "print(x_train.shape)\n",
    "print(x_test.shape)\n",
    "print(y_train.shape)\n",
    "print(x_test.shape)"
   ]
  },
  {
   "cell_type": "code",
   "execution_count": 30,
   "id": "3336e6ec",
   "metadata": {},
   "outputs": [
    {
     "data": {
      "text/html": [
       "<style>#sk-container-id-1 {color: black;background-color: white;}#sk-container-id-1 pre{padding: 0;}#sk-container-id-1 div.sk-toggleable {background-color: white;}#sk-container-id-1 label.sk-toggleable__label {cursor: pointer;display: block;width: 100%;margin-bottom: 0;padding: 0.3em;box-sizing: border-box;text-align: center;}#sk-container-id-1 label.sk-toggleable__label-arrow:before {content: \"▸\";float: left;margin-right: 0.25em;color: #696969;}#sk-container-id-1 label.sk-toggleable__label-arrow:hover:before {color: black;}#sk-container-id-1 div.sk-estimator:hover label.sk-toggleable__label-arrow:before {color: black;}#sk-container-id-1 div.sk-toggleable__content {max-height: 0;max-width: 0;overflow: hidden;text-align: left;background-color: #f0f8ff;}#sk-container-id-1 div.sk-toggleable__content pre {margin: 0.2em;color: black;border-radius: 0.25em;background-color: #f0f8ff;}#sk-container-id-1 input.sk-toggleable__control:checked~div.sk-toggleable__content {max-height: 200px;max-width: 100%;overflow: auto;}#sk-container-id-1 input.sk-toggleable__control:checked~label.sk-toggleable__label-arrow:before {content: \"▾\";}#sk-container-id-1 div.sk-estimator input.sk-toggleable__control:checked~label.sk-toggleable__label {background-color: #d4ebff;}#sk-container-id-1 div.sk-label input.sk-toggleable__control:checked~label.sk-toggleable__label {background-color: #d4ebff;}#sk-container-id-1 input.sk-hidden--visually {border: 0;clip: rect(1px 1px 1px 1px);clip: rect(1px, 1px, 1px, 1px);height: 1px;margin: -1px;overflow: hidden;padding: 0;position: absolute;width: 1px;}#sk-container-id-1 div.sk-estimator {font-family: monospace;background-color: #f0f8ff;border: 1px dotted black;border-radius: 0.25em;box-sizing: border-box;margin-bottom: 0.5em;}#sk-container-id-1 div.sk-estimator:hover {background-color: #d4ebff;}#sk-container-id-1 div.sk-parallel-item::after {content: \"\";width: 100%;border-bottom: 1px solid gray;flex-grow: 1;}#sk-container-id-1 div.sk-label:hover label.sk-toggleable__label {background-color: #d4ebff;}#sk-container-id-1 div.sk-serial::before {content: \"\";position: absolute;border-left: 1px solid gray;box-sizing: border-box;top: 0;bottom: 0;left: 50%;z-index: 0;}#sk-container-id-1 div.sk-serial {display: flex;flex-direction: column;align-items: center;background-color: white;padding-right: 0.2em;padding-left: 0.2em;position: relative;}#sk-container-id-1 div.sk-item {position: relative;z-index: 1;}#sk-container-id-1 div.sk-parallel {display: flex;align-items: stretch;justify-content: center;background-color: white;position: relative;}#sk-container-id-1 div.sk-item::before, #sk-container-id-1 div.sk-parallel-item::before {content: \"\";position: absolute;border-left: 1px solid gray;box-sizing: border-box;top: 0;bottom: 0;left: 50%;z-index: -1;}#sk-container-id-1 div.sk-parallel-item {display: flex;flex-direction: column;z-index: 1;position: relative;background-color: white;}#sk-container-id-1 div.sk-parallel-item:first-child::after {align-self: flex-end;width: 50%;}#sk-container-id-1 div.sk-parallel-item:last-child::after {align-self: flex-start;width: 50%;}#sk-container-id-1 div.sk-parallel-item:only-child::after {width: 0;}#sk-container-id-1 div.sk-dashed-wrapped {border: 1px dashed gray;margin: 0 0.4em 0.5em 0.4em;box-sizing: border-box;padding-bottom: 0.4em;background-color: white;}#sk-container-id-1 div.sk-label label {font-family: monospace;font-weight: bold;display: inline-block;line-height: 1.2em;}#sk-container-id-1 div.sk-label-container {text-align: center;}#sk-container-id-1 div.sk-container {/* jupyter's `normalize.less` sets `[hidden] { display: none; }` but bootstrap.min.css set `[hidden] { display: none !important; }` so we also need the `!important` here to be able to override the default hidden behavior on the sphinx rendered scikit-learn.org. See: https://github.com/scikit-learn/scikit-learn/issues/21755 */display: inline-block !important;position: relative;}#sk-container-id-1 div.sk-text-repr-fallback {display: none;}</style><div id=\"sk-container-id-1\" class=\"sk-top-container\"><div class=\"sk-text-repr-fallback\"><pre>LinearRegression()</pre><b>In a Jupyter environment, please rerun this cell to show the HTML representation or trust the notebook. <br />On GitHub, the HTML representation is unable to render, please try loading this page with nbviewer.org.</b></div><div class=\"sk-container\" hidden><div class=\"sk-item\"><div class=\"sk-estimator sk-toggleable\"><input class=\"sk-toggleable__control sk-hidden--visually\" id=\"sk-estimator-id-1\" type=\"checkbox\" checked><label for=\"sk-estimator-id-1\" class=\"sk-toggleable__label sk-toggleable__label-arrow\">LinearRegression</label><div class=\"sk-toggleable__content\"><pre>LinearRegression()</pre></div></div></div></div></div>"
      ],
      "text/plain": [
       "LinearRegression()"
      ]
     },
     "execution_count": 30,
     "metadata": {},
     "output_type": "execute_result"
    }
   ],
   "source": [
    "lr.fit(x_train, y_train)"
   ]
  },
  {
   "cell_type": "code",
   "execution_count": 31,
   "id": "5a2242a4",
   "metadata": {},
   "outputs": [
    {
     "name": "stdout",
     "output_type": "stream",
     "text": [
      "Value of RSquare is  87.16975183185531\n"
     ]
    }
   ],
   "source": [
    "Rsqr = lr.score(x_train, y_train)\n",
    "print(\"Value of RSquare is \", Rsqr * 100)"
   ]
  },
  {
   "cell_type": "code",
   "execution_count": 32,
   "id": "68356ad6",
   "metadata": {},
   "outputs": [
    {
     "name": "stdout",
     "output_type": "stream",
     "text": [
      "Adjusted Rsquare =  86.30030278016785\n"
     ]
    }
   ],
   "source": [
    "## Adjusted Rsquare \n",
    "\n",
    "N = x_train.shape[0]\n",
    "K = x_train.shape[1]\n",
    "\n",
    "AdjRsqr = 1- (1-Rsqr) * (N-1)/(N-K-1)\n",
    "\n",
    "print(\"Adjusted Rsquare = \" ,  AdjRsqr * 100)"
   ]
  },
  {
   "cell_type": "code",
   "execution_count": 33,
   "id": "97bb1782",
   "metadata": {},
   "outputs": [
    {
     "data": {
      "text/plain": [
       "1091795.8888400737"
      ]
     },
     "execution_count": 33,
     "metadata": {},
     "output_type": "execute_result"
    }
   ],
   "source": [
    "lr.intercept_"
   ]
  },
  {
   "cell_type": "code",
   "execution_count": 42,
   "id": "0ea81cdb",
   "metadata": {},
   "outputs": [
    {
     "data": {
      "text/plain": [
       "array([-1.06221698e+02, -2.01671069e+03, -1.16688219e+02,  4.23576936e-01,\n",
       "        3.19539683e+04, -4.10118505e+02,  1.57594101e+03, -4.82562142e+04,\n",
       "       -7.14995199e+01,  8.47911449e+03,  1.39260070e+02, -3.15613978e+02,\n",
       "        8.28613848e+02, -2.79855812e+03, -6.54857350e+02,  1.02415496e+04,\n",
       "        4.46365487e+03,  1.35867584e+02,  9.37305063e+01,  1.41606536e+03,\n",
       "        2.88847341e+04, -1.59253930e+03,  9.79226759e+02,  6.04215546e+03,\n",
       "        4.33850704e+01, -1.06292389e+04,  6.29219530e+02,  1.81878224e+03,\n",
       "       -8.03148248e+03,  2.46318360e+03, -3.70844557e+03, -9.20595096e+02,\n",
       "        3.80206880e+00,  6.16027770e+02,  8.57286589e+00, -2.37330832e+00,\n",
       "        1.00016263e+01,  3.04607293e+02, -8.64592262e+02,  6.23419455e+03,\n",
       "        2.53229322e+02,  1.66436786e+01,  2.29003555e+01, -1.45949139e+01,\n",
       "        2.49491201e+01,  8.71380823e+03,  2.11342970e+03,  2.85591439e+03,\n",
       "       -2.50543699e+03, -4.87031302e+03, -9.58714358e+03, -8.07905942e+03,\n",
       "        3.60066483e+03,  2.35922649e+03,  4.79487386e+03, -5.94439179e+02,\n",
       "       -5.26963677e+01,  1.00561478e+03,  9.56825969e+03,  1.83253627e+00,\n",
       "        3.38149116e+02,  2.22651332e+03,  9.95673288e+02, -4.45193649e+00,\n",
       "        1.05502211e+01, -1.25182053e+00,  1.38841399e+01,  3.81679977e+01,\n",
       "       -9.66987072e+01,  1.91381627e-01,  2.29431984e+01, -7.86171166e+02,\n",
       "       -1.12508576e+03,  3.93613547e+03])"
      ]
     },
     "execution_count": 42,
     "metadata": {},
     "output_type": "execute_result"
    }
   ],
   "source": [
    "lr.coef_"
   ]
  },
  {
   "cell_type": "code",
   "execution_count": 35,
   "id": "799dd3d3",
   "metadata": {},
   "outputs": [
    {
     "data": {
      "text/plain": [
       "74"
      ]
     },
     "execution_count": 35,
     "metadata": {},
     "output_type": "execute_result"
    }
   ],
   "source": [
    "len(lr.coef_)"
   ]
  },
  {
   "cell_type": "code",
   "execution_count": 43,
   "id": "9f3850f0",
   "metadata": {},
   "outputs": [
    {
     "data": {
      "text/plain": [
       "array([274530.6092566 , 176874.50852595, 430546.02642927, 204839.96272303,\n",
       "       221902.7758406 , 181916.49646804, 139863.33941612, 124237.00042937,\n",
       "       294794.92500369, 239840.21721267, 159113.01718822, 203551.88425123,\n",
       "        71673.11842178, 211188.93686737, 264544.6945678 , 334394.48649755,\n",
       "       126220.70901394, 190701.48257771, 184642.71913081, 144111.08944665,\n",
       "       192593.01626614, 216314.86899343, 159624.31700846, 104148.5082157 ,\n",
       "       348210.48148278, 442418.81626771, 296029.81629061, 125926.3887398 ,\n",
       "       160587.405659  ,  95907.16719431,  93788.77975455, 147939.02440165,\n",
       "       167902.37913635, 260719.40449305,  73129.07003183, 276245.73326268,\n",
       "       207482.22685392, 196854.15855477, 126620.52867354, 135875.94112211,\n",
       "       192264.11807587, 256217.75179222,  83170.64685968, 150942.39838477,\n",
       "       547414.97244558, 107281.91288802, 227536.3480179 , 214772.30151604,\n",
       "       123352.83257592, 332877.81557011, 253190.96160028, 119748.1333653 ,\n",
       "       139731.55939076, 138842.74864317, 143393.38717793, 153834.60848812,\n",
       "       169184.23411309,  96009.19777732, 128233.81759725, 127447.94375311,\n",
       "       140536.19192019, 237774.1046408 ,  65614.26017411, 382875.53778637,\n",
       "       148645.05022556, 103507.15761523,  58176.2429583 , 141350.8005801 ,\n",
       "       166855.6522896 , 107777.00170404, 405523.22191949, 190752.03209946,\n",
       "       160080.78941643, 204801.23328169, 178784.31684801, 129392.92836209,\n",
       "       135913.30251599, 228928.36371596, 160101.84004275, 223707.85839612,\n",
       "       194829.65953608, 116841.8184815 , 165840.9722658 , 132865.75293763,\n",
       "       221305.70232857, 183984.0659339 , 253054.17582493, 412228.68569599,\n",
       "       192658.39460895, 174425.14366591, 296638.79503244, 335281.58653532,\n",
       "       131598.19859113,  41800.88461304, 377599.22902818, 208108.07039339,\n",
       "       220485.83629831,  93841.39375098, 106127.96718575,  73555.73822402,\n",
       "        88846.64517468, 183548.76172416, 106736.75418537, 197847.52625128,\n",
       "       235249.12951579, 287591.22853821, 243910.74735288, 189072.22116535,\n",
       "       162588.65874376, 263738.84335495, 196465.06716404, 156386.93758162,\n",
       "       153784.20937268, 221224.62830959, 237409.27404182, 210748.18318621,\n",
       "       201793.03397613, 195690.17344693, 123381.06376445, 234070.80254388,\n",
       "       164243.14189735, 117018.24170795,  99222.47020211, 108957.01290754,\n",
       "       273743.51390461, 110724.5306668 , 227987.38962086, 145831.64200742,\n",
       "       200618.86048608, 204391.76828997, 139082.18005957, 209071.59901882,\n",
       "       165676.08831302, 137343.21218727, 364423.34921067,  60407.79736322,\n",
       "       348675.61586906, 131657.0877348 , 122917.93990048, 125089.36762075,\n",
       "       114992.85249289, 216250.51735894, 236106.00822662, 154802.21142033,\n",
       "       335169.12424777, 148058.38883323, 148046.84139812, 228996.99159691,\n",
       "       126700.00964801, 198318.06770875, 323595.21971235, 153893.08552467,\n",
       "       198557.36027235, 120475.33647857, 172162.90589558, 230439.41710733,\n",
       "       172272.00213809, 153093.1585953 , 220914.46102495, 227656.37532073,\n",
       "       156977.61591859, 127097.0875445 , 193008.34740521, 321662.63151889,\n",
       "       195112.57224897, 126258.25410727, 180634.85415802, 191697.57989957,\n",
       "       169754.94696646, 169572.9721018 ,  83525.1630563 , 134259.43364296,\n",
       "       205284.70998738, 107422.30597898, 256581.26862487, 163943.9265705 ,\n",
       "       269018.64016007, 156934.14794953, 118812.61843255, 253338.31217976,\n",
       "       274022.74116527,  93055.13382803, 363914.85932497, 174656.52515649,\n",
       "       152483.24192011, 229655.36118451, 184960.90671658, 153187.56986132,\n",
       "       204340.20102073, 115201.95364897, 204494.42173285, 104095.64024187,\n",
       "       242754.85454123, 150145.80420807, 214883.32571456, 102258.86819336,\n",
       "       314452.7429847 , 227791.04366392, 158689.90765161, 140324.34293018,\n",
       "       118638.04121117, 242772.16818178, 104821.57537622, 147893.39160192,\n",
       "       106366.02587732, 108624.27060833, 146154.52245219, 198373.56717814,\n",
       "       104507.64020823, 135750.68874794, 245482.25681835, 196021.95227625,\n",
       "        70997.10449619, 173342.77726424, 178141.73122044, 225289.61954474,\n",
       "       113815.73932479, 144102.76376737, 112068.41509564, 229110.12211222,\n",
       "       138396.98679471, 112471.43835431, 218278.99239135, 183025.32594177,\n",
       "       314160.06211851,  81887.87549724, 238174.85294393, 382613.17500742,\n",
       "       127919.91118186, 232695.6784804 ,  72248.77514346,  89060.33981388,\n",
       "       322779.25213208,  93064.8256394 , 237426.69031274, 196513.63421598,\n",
       "       135438.6982351 , 107703.75013348, 213212.56776149, 303980.04437457,\n",
       "       120584.86312759,  92507.68624276, 151315.41046895, 318948.19940736,\n",
       "       102195.26039565, 149498.88530667,  29338.40288693, 112373.84535107,\n",
       "       129378.55190719, 174804.10961931, 195594.40017776, 114648.70525008,\n",
       "       252014.77526401, 216547.57181687,  93657.90493863, 105304.65126412,\n",
       "        90866.7585816 , 116236.37954503, 227412.59370617, 155121.87784067,\n",
       "       176751.88953546, 300510.23885049, 175509.93010181, 212394.49329091,\n",
       "       286596.31007204, 112102.9247025 , 378625.74171193, 218695.55741425,\n",
       "       249356.60716373, 108884.42779615, 183533.1586888 , 145211.93190943,\n",
       "       199570.36033975, 302559.02493752, 128937.56938712, 223043.34743674,\n",
       "       135653.54076943, 134583.52787762, 113856.50788323, 115185.23549398,\n",
       "       222242.25871371, 272840.15722585, 308331.46723886, 248857.80329002,\n",
       "       146895.45458065, 153595.73328104, 278993.16027196, 219455.50039864,\n",
       "        85941.43188357, 112540.5138849 , 203140.12075408, 135300.84132786])"
      ]
     },
     "execution_count": 43,
     "metadata": {},
     "output_type": "execute_result"
    }
   ],
   "source": [
    "pred = lr.predict(x_test)\n",
    "pred"
   ]
  },
  {
   "cell_type": "code",
   "execution_count": 44,
   "id": "58007e5f",
   "metadata": {},
   "outputs": [
    {
     "data": {
      "text/plain": [
       "292"
      ]
     },
     "execution_count": 44,
     "metadata": {},
     "output_type": "execute_result"
    }
   ],
   "source": [
    "len(pred)"
   ]
  },
  {
   "cell_type": "code",
   "execution_count": 38,
   "id": "aa356e81",
   "metadata": {},
   "outputs": [],
   "source": [
    "from sklearn.metrics import mean_squared_error, mean_absolute_percentage_error"
   ]
  },
  {
   "cell_type": "code",
   "execution_count": 45,
   "id": "cb1ed147",
   "metadata": {},
   "outputs": [
    {
     "name": "stdout",
     "output_type": "stream",
     "text": [
      "MSE = 1805313679.9264774\n",
      "MAPE = 12.05828453349789\n"
     ]
    }
   ],
   "source": [
    "MSE = mean_squared_error(y_test,pred)\n",
    "MAPE = mean_absolute_percentage_error(y_test,pred)\n",
    "print('MSE =', MSE)\n",
    "print('MAPE =', MAPE*100)"
   ]
  },
  {
   "cell_type": "code",
   "execution_count": null,
   "id": "5e7d8ed9",
   "metadata": {},
   "outputs": [],
   "source": []
  }
 ],
 "metadata": {
  "kernelspec": {
   "display_name": "Python 3 (ipykernel)",
   "language": "python",
   "name": "python3"
  },
  "language_info": {
   "codemirror_mode": {
    "name": "ipython",
    "version": 3
   },
   "file_extension": ".py",
   "mimetype": "text/x-python",
   "name": "python",
   "nbconvert_exporter": "python",
   "pygments_lexer": "ipython3",
   "version": "3.9.7"
  }
 },
 "nbformat": 4,
 "nbformat_minor": 5
}
